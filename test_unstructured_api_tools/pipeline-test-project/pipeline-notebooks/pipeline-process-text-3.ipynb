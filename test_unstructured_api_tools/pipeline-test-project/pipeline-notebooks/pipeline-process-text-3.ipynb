{
 "cells": [
  {
   "cell_type": "markdown",
   "id": "bafce76f",
   "metadata": {},
   "source": [
    "# Text Processing Pipeline"
   ]
  },
  {
   "cell_type": "code",
   "execution_count": null,
   "id": "2524a9a4",
   "metadata": {},
   "outputs": [],
   "source": [
    "# pipeline-api\n",
    "import pandas as pd\n",
    "def pipeline_api(\n",
    "    text,\n",
    "    response_type=\"text/csv\"\n",
    "):\n",
    "    data = pd.DataFrame(data={\"silly_result\": [str(len(text)), text, str(response_type)]})\n",
    "    if response_type == \"text/csv\":\n",
    "        return data.to_csv()\n",
    "    else:\n",
    "        text = \" : \".join(list(data[\"silly_result\"]))\n",
    "        return {\"silly_result\": text}"
   ]
  },
  {
   "cell_type": "code",
   "execution_count": null,
   "id": "6a876bdf",
   "metadata": {},
   "outputs": [
    {
     "name": "stdout",
     "output_type": "stream",
     "text": [
      ",silly_result\n",
      "0,9\n",
      "1,some text\n",
      "2,text/csv\n",
      "\n"
     ]
    }
   ],
   "source": [
    "print(pipeline_api(\"some text\", \"text/csv\"))"
   ]
  },
  {
   "cell_type": "code",
   "execution_count": null,
   "id": "83f27184",
   "metadata": {},
   "outputs": [],
   "source": []
  }
 ],
 "metadata": {
  "kernelspec": {
   "display_name": "python3",
   "language": "python",
   "name": "python3"
  }
 },
 "nbformat": 4,
 "nbformat_minor": 5
}
