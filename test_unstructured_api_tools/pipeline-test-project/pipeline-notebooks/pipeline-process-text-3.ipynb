{
 "cells": [
  {
   "cell_type": "markdown",
   "id": "bafce76f",
   "metadata": {},
   "source": [
    "# Text Processing Pipeline"
   ]
  },
  {
   "cell_type": "code",
   "execution_count": 7,
   "id": "2524a9a4",
   "metadata": {},
   "outputs": [],
   "source": [
    "# pipeline-api\n",
    "def pipeline_api(\n",
    "    text,\n",
    "    response_type=\"text/csv\"\n",
    "):\n",
    "    data = pd.DataFrame(data={\"silly_result\": [str(len(text)), text, str(response_type)]})\n",
    "    if response_type == \"text/csv\":\n",
    "        return data.to_csv()\n",
    "    else:\n",
    "        text = \" : \".join(list(data[\"silly_result\"]))\n",
    "        return {\"silly_result\": text}"
   ]
  },
  {
   "cell_type": "code",
   "execution_count": 9,
   "id": "6a876bdf",
   "metadata": {},
   "outputs": [
    {
     "name": "stdout",
     "output_type": "stream",
     "text": [
      "{'silly_result': '9 : some text : text/csvv'}\n"
     ]
    }
   ],
   "source": [
    "print(pipeline_api(\"some text\", \"text/csv\"))"
   ]
  },
  {
   "cell_type": "code",
   "execution_count": null,
   "id": "83f27184",
   "metadata": {},
   "outputs": [],
   "source": []
  }
 ],
 "metadata": {
  "kernelspec": {
   "display_name": "Python 3 (ipykernel)",
   "language": "python",
   "name": "python3"
  },
  "language_info": {
   "codemirror_mode": {
    "name": "ipython",
    "version": 3
   },
   "file_extension": ".py",
   "mimetype": "text/x-python",
   "name": "python",
   "nbconvert_exporter": "python",
   "pygments_lexer": "ipython3",
   "version": "3.8.15"
  }
 },
 "nbformat": 4,
 "nbformat_minor": 5
}
