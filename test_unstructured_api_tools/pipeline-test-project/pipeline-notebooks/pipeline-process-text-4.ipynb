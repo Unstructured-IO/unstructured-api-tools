{
 "cells": [
  {
   "cell_type": "markdown",
   "metadata": {},
   "source": [
    "# Text Processing Pipeline"
   ]
  },
  {
   "cell_type": "code",
   "execution_count": null,
   "metadata": {},
   "outputs": [],
   "source": [
    "# pipeline-api\n",
    "import pandas as pd\n",
    "def pipeline_api(\n",
    "    text,\n",
    "    response_type=\"text/csv\",\n",
    "    response_schema=\"isd\",\n",
    "):\n",
    "    data = pd.DataFrame(data={\"silly_result\": [str(len(text)), text, str(response_type), str(response_schema)]})\n",
    "    if response_type == \"text/csv\":\n",
    "        return data.to_csv()\n",
    "    else:\n",
    "        text = \" : \".join(list(data[\"silly_result\"]))\n",
    "        return {\"silly_result\": text}"
   ]
  },
  {
   "cell_type": "code",
   "execution_count": null,
   "metadata": {},
   "outputs": [
    {
     "name": "stdout",
     "output_type": "stream",
     "text": [
      ",silly_result\n",
      "0,9\n",
      "1,some text\n",
      "2,text/csv\n",
      "3,isd\n",
      "\n"
     ]
    }
   ],
   "source": [
    "print(pipeline_api(\"some text\", \"text/csv\", \"isd\"))"
   ]
  }
 ],
 "metadata": {
  "kernelspec": {
   "display_name": "python3",
   "language": "python",
   "name": "python3"
  }
 },
 "nbformat": 4,
 "nbformat_minor": 1
}
