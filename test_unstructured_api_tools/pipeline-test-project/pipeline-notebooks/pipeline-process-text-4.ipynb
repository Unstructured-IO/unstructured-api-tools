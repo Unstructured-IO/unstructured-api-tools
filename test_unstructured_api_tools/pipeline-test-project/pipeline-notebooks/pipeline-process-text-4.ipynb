{
 "cells": [
  {
   "cell_type": "markdown",
   "source": [
    "# Text Processing Pipeline"
   ],
   "metadata": {
    "collapsed": false
   }
  },
  {
   "cell_type": "code",
   "execution_count": null,
   "metadata": {},
   "outputs": [],
   "source": [
    "# pipeline-api\n",
    "def pipeline_api(\n",
    "    text,\n",
    "    response_type=\"text/csv\",\n",
    "    response_schema=\"isd\",\n",
    "):\n",
    "    return {\"silly_result\": ' : '.join([str(len(text)), text, str(response_type), str(response_schema)])}"
   ]
  },
  {
   "cell_type": "code",
   "execution_count": 5,
   "metadata": {},
   "outputs": [
    {
     "name": "stdout",
     "output_type": "stream",
     "text": [
      "{'silly_result': '9 : some text : text/csv : isd'}\n"
     ]
    }
   ],
   "source": [
    "print(pipeline_api(\"some text\", \"text/csv\", \"isd\"))"
   ]
  }
 ],
 "metadata": {
  "kernelspec": {
   "display_name": "python3",
   "language": "python",
   "name": "python3"
  }
 },
 "nbformat": 4,
 "nbformat_minor": 0
}
