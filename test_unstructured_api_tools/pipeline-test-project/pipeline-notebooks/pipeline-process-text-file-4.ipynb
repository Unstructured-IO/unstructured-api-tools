{
 "cells": [
  {
   "cell_type": "markdown",
   "source": [
    "# Text & File Processing Pipeline"
   ],
   "metadata": {
    "collapsed": false
   }
  },
  {
   "cell_type": "code",
   "execution_count": 2,
   "metadata": {},
   "outputs": [],
   "source": [
    "# pipeline-api\n",
    "def pipeline_api(\n",
    "    text,\n",
    "    file,\n",
    "    filename=None,\n",
    "    file_content_type=None,\n",
    "    response_type=\"application/json\",\n",
    "    response_schema=\"isd\",\n",
    "    m_input1=[],\n",
    "    m_input2=[]\n",
    "):\n",
    "    return {\"silly_result\": ' : '.join([\n",
    "        str(len(text)),\n",
    "        text,\n",
    "        str(len(file.read())),\n",
    "        filename,\n",
    "        str(file_content_type),\n",
    "        str(response_type),\n",
    "        str(response_schema),\n",
    "        str(m_input1),\n",
    "        str(m_input2),\n",
    "    ])}"
   ]
  },
  {
   "cell_type": "code",
   "execution_count": 3,
   "metadata": {},
   "outputs": [
    {
     "name": "stdout",
     "output_type": "stream",
     "text": [
      "{'silly_result': \"9 : some text : 17 : temp-file.txt : None : application/json : isd : ['input1'] : ['input2', 'input3']\"}\n"
     ]
    }
   ],
   "source": [
    "import tempfile\n",
    "with tempfile.TemporaryFile() as fp:\n",
    "    fp.write(b'This is some data')\n",
    "    fp.seek(0)\n",
    "    print(pipeline_api(\n",
    "        text=\"some text\",\n",
    "        file=fp,\n",
    "        file_content_type=None,\n",
    "        filename=\"temp-file.txt\",\n",
    "        response_type=\"application/json\",\n",
    "        response_schema=\"isd\",\n",
    "        m_input1=[\"input1\"],\n",
    "        m_input2=[\"input2\", \"input3\"]\n",
    "    ))"
   ]
  }
 ],
 "metadata": {
  "kernelspec": {
   "display_name": "python3",
   "language": "python",
   "name": "python3"
  }
 },
 "nbformat": 4,
 "nbformat_minor": 0
}
