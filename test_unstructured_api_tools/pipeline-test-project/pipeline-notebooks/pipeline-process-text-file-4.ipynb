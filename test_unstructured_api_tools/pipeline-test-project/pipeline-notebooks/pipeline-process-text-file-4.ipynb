{
 "cells": [
  {
   "cell_type": "markdown",
   "metadata": {},
   "source": [
    "# Text & File Processing Pipeline"
   ]
  },
  {
   "cell_type": "code",
   "execution_count": null,
   "metadata": {},
   "outputs": [],
   "source": [
    "# pipeline-api\n",
    "import pandas as pd\n",
    "def pipeline_api(\n",
    "    text,\n",
    "    file=None,\n",
    "    filename=None,\n",
    "    file_content_type=None,\n",
    "    response_type=\"application/json\",\n",
    "    response_schema=\"isd\",\n",
    "    m_input1=[],\n",
    "    m_input2=[]\n",
    "):\n",
    "    data = pd.DataFrame(data={\"silly_result\": [\n",
    "        str(len(text if text else \"\")),\n",
    "        str(text),\n",
    "        str(len(file.read()) if file else None),\n",
    "        str(filename),\n",
    "        str(file_content_type),\n",
    "        str(response_type),\n",
    "        str(response_schema),\n",
    "        str(m_input1),\n",
    "        str(m_input2),\n",
    "    ]})\n",
    "    if response_type == \"text/csv\":\n",
    "        return data.to_csv()\n",
    "    else:\n",
    "        text = \" : \".join(list(data[\"silly_result\"]))\n",
    "        return {\"silly_result\": text}"
   ]
  },
  {
   "cell_type": "code",
   "execution_count": null,
   "metadata": {},
   "outputs": [
    {
     "name": "stdout",
     "output_type": "stream",
     "text": [
      "{'silly_result': \"9 : some text : 17 : temp-file.txt : None : application/json : isd : ['input1'] : ['input2', 'input3']\"}\n"
     ]
    }
   ],
   "source": [
    "import tempfile\n",
    "with tempfile.TemporaryFile() as fp:\n",
    "    fp.write(b'This is some data')\n",
    "    fp.seek(0)\n",
    "    print(pipeline_api(\n",
    "        text=\"some text\",\n",
    "        file=fp,\n",
    "        file_content_type=None,\n",
    "        filename=\"temp-file.txt\",\n",
    "        response_type=\"application/json\",\n",
    "        response_schema=\"isd\",\n",
    "        m_input1=[\"input1\"],\n",
    "        m_input2=[\"input2\", \"input3\"]\n",
    "    ))"
   ]
  }
 ],
 "metadata": {
  "kernelspec": {
   "display_name": "python3",
   "language": "python",
   "name": "python3"
  }
 },
 "nbformat": 4,
 "nbformat_minor": 1
}
