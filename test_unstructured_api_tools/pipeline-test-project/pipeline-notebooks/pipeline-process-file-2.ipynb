{
 "cells": [
  {
   "cell_type": "markdown",
   "source": [
    "# File Processing Pipeline"
   ],
   "metadata": {
    "collapsed": false
   }
  },
  {
   "cell_type": "code",
   "execution_count": null,
   "metadata": {},
   "outputs": [],
   "source": [
    "# pipeline-api\n",
    "def pipeline_api(\n",
    "    file\n",
    "):\n",
    "    return {\"silly_result\": ' : '.join([str(len(file.read()))])}"
   ]
  },
  {
   "cell_type": "code",
   "execution_count": null,
   "metadata": {},
   "outputs": [
    {
     "name": "stdout",
     "output_type": "stream",
     "text": [
      "{'silly_result': '17'}\n"
     ]
    }
   ],
   "source": [
    "import tempfile\n",
    "with tempfile.TemporaryFile() as fp:\n",
    "    fp.write(b'This is some data')\n",
    "    fp.seek(0)\n",
    "    print(pipeline_api(fp))"
   ]
  }
 ],
 "metadata": {
  "kernelspec": {
   "display_name": "python3",
   "language": "python",
   "name": "python3"
  }
 },
 "nbformat": 4,
 "nbformat_minor": 0
}
