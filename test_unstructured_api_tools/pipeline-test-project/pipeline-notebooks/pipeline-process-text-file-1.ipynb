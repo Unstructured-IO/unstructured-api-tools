{
 "cells": [
  {
   "cell_type": "markdown",
   "metadata": {},
   "source": [
    "# Text & File Processing Pipeline"
   ]
  },
  {
   "cell_type": "code",
   "execution_count": 4,
   "metadata": {},
   "outputs": [],
   "source": [
    "# pipeline-api\n",
    "def pipeline_api(\n",
    "    text,\n",
    "    file=None,\n",
    "    filename=None,\n",
    "    file_content_type=None,\n",
    "):\n",
    "    return {\"silly_result\": ' : '.join([\n",
    "        str(len(text if text else \"\")),\n",
    "        str(text),\n",
    "        str(len(file.read()) if file else None),\n",
    "        str(filename),\n",
    "        str(file_content_type),\n",
    "    ])}"
   ]
  },
  {
   "cell_type": "code",
   "execution_count": 5,
   "metadata": {},
   "outputs": [
    {
     "name": "stdout",
     "output_type": "stream",
     "text": [
      "{'silly_result': '9 : some text : 17 : temp-file.txt : None'}\n"
     ]
    }
   ],
   "source": [
    "import tempfile\n",
    "with tempfile.TemporaryFile() as fp:\n",
    "    fp.write(b'This is some data')\n",
    "    fp.seek(0)\n",
    "    print(pipeline_api(\n",
    "        text=\"some text\",\n",
    "        file=fp,\n",
    "        file_content_type=None,\n",
    "        filename=\"temp-file.txt\"\n",
    "    ))"
   ]
  }
 ],
 "metadata": {
  "kernelspec": {
   "display_name": "Python 3 (ipykernel)",
   "language": "python",
   "name": "python3"
  },
  "language_info": {
   "codemirror_mode": {
    "name": "ipython",
    "version": 3
   },
   "file_extension": ".py",
   "mimetype": "text/x-python",
   "name": "python",
   "nbconvert_exporter": "python",
   "pygments_lexer": "ipython3",
   "version": "3.8.15"
  }
 },
 "nbformat": 4,
 "nbformat_minor": 1
}
