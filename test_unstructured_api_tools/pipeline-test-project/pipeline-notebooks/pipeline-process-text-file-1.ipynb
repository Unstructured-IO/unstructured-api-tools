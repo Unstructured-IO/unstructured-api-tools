{
 "cells": [
  {
   "cell_type": "markdown",
   "source": [
    "# Text & File Processing Pipeline"
   ],
   "metadata": {
    "collapsed": false
   }
  },
  {
   "cell_type": "code",
   "execution_count": 4,
   "metadata": {},
   "outputs": [],
   "source": [
    "# pipeline-api\n",
    "def pipeline_api(\n",
    "    text,\n",
    "    file=None,\n",
    "    filename=None,\n",
    "    file_content_type=None,\n",
    "):\n",
    "    return {\"silly_result\": ' : '.join([\n",
    "        str(len(text)),\n",
    "        text,\n",
    "        str(len(file.read())),\n",
    "        filename,\n",
    "        str(file_content_type),\n",
    "    ])}"
   ]
  },
  {
   "cell_type": "code",
   "execution_count": 5,
   "metadata": {},
   "outputs": [
    {
     "name": "stdout",
     "output_type": "stream",
     "text": [
      "{'silly_result': '9 : some text : 17 : temp-file.txt : None'}\n"
     ]
    }
   ],
   "source": [
    "import tempfile\n",
    "with tempfile.TemporaryFile() as fp:\n",
    "    fp.write(b'This is some data')\n",
    "    fp.seek(0)\n",
    "    print(pipeline_api(\n",
    "        text=\"some text\",\n",
    "        file=fp,\n",
    "        file_content_type=None,\n",
    "        filename=\"temp-file.txt\"\n",
    "    ))"
   ]
  }
 ],
 "metadata": {
  "kernelspec": {
   "display_name": "python3",
   "language": "python",
   "name": "python3"
  }
 },
 "nbformat": 4,
 "nbformat_minor": 0
}
