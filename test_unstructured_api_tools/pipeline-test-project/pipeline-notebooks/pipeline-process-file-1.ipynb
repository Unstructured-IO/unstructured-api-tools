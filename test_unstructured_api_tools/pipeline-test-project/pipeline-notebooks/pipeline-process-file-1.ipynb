{
 "cells": [
  {
   "cell_type": "markdown",
   "id": "3931743a",
   "metadata": {},
   "source": [
    "# File Processing Pipeline"
   ]
  },
  {
   "cell_type": "code",
   "execution_count": null,
   "id": "d83dab2a",
   "metadata": {},
   "outputs": [],
   "source": [
    "import os"
   ]
  },
  {
   "cell_type": "code",
   "execution_count": null,
   "id": "7cb5e00b",
   "metadata": {},
   "outputs": [],
   "source": [
    "# pipeline-api\n",
    "\n",
    "# test that a duplicate import gets handles correctly as this gets imported via the template as wel\n",
    "import json\n",
    "\n",
    "# test accessing os in a #pipeline-api cell does not break things\n",
    "_ = os.environ\n",
    "\n",
    "def pipeline_api(\n",
    "    file,\n",
    "    filename=None,\n",
    "    file_content_type=None,\n",
    "    m_input2=[],\n",
    "):\n",
    "    return {\"silly_result\": ' : '.join([str(len(file.read())),\n",
    "                          filename,\n",
    "                          file_content_type,\n",
    "                          str(m_input2)])}"
   ]
  },
  {
   "cell_type": "code",
   "execution_count": null,
   "id": "65911889",
   "metadata": {},
   "outputs": [
    {
     "name": "stdout",
     "output_type": "stream",
     "text": [
      "{'silly_result': \"17 : temp-file.txt : text/plain : ['my', 'inputs']\"}\n"
     ]
    }
   ],
   "source": [
    "import tempfile\n",
    "with tempfile.TemporaryFile() as fp:\n",
    "    fp.write(b'This is some data')\n",
    "    fp.seek(0)\n",
    "    print(\n",
    "        pipeline_api(\n",
    "            fp,\n",
    "            filename=\"temp-file.txt\",\n",
    "            file_content_type=\"text/plain\",\n",
    "            m_input2=[\"my\",\"inputs\"]\n",
    "        )\n",
    "    )"
   ]
  },
  {
   "cell_type": "code",
   "execution_count": null,
   "id": "edce40fa",
   "metadata": {},
   "outputs": [],
   "source": []
  }
 ],
 "metadata": {
  "kernelspec": {
   "display_name": "python3",
   "language": "python",
   "name": "python3"
  }
 },
 "nbformat": 4,
 "nbformat_minor": 5
}
