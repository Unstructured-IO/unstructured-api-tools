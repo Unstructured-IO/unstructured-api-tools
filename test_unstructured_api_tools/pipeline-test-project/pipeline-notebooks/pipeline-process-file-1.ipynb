{
 "cells": [
  {
   "cell_type": "markdown",
   "id": "3931743a",
   "metadata": {},
   "source": [
    "# File Processing Pipeline"
   ]
  },
  {
   "cell_type": "code",
   "execution_count": null,
   "id": "7cb5e00b",
   "metadata": {},
   "outputs": [],
   "source": [
    "# pipeline-api\n",
    "def pipeline_api(\n",
    "    file,\n",
    "    filename=None,\n",
    "    file_content_type=None,\n",
    "    m_input_2=[],\n",
    "):\n",
    "    return {\"silly_result\": ' : '.join([str(len(file.read())),\n",
    "                          filename,\n",
    "                          file_content_type,\n",
    "                          str(m_input_2)])}"
   ]
  },
  {
   "cell_type": "code",
   "execution_count": null,
   "id": "65911889",
   "metadata": {},
   "outputs": [
    {
     "name": "stdout",
     "output_type": "stream",
     "text": [
      "{'silly_result': \"17 : temp-file.txt : text/plain : ['my', 'inputs']\"}\n"
     ]
    }
   ],
   "source": [
    "import tempfile\n",
    "with tempfile.TemporaryFile() as fp:\n",
    "    fp.write(b'This is some data')\n",
    "    fp.seek(0)\n",
    "    print(\n",
    "        pipeline_api(\n",
    "            fp, filename=\"temp-file.txt\", file_content_type=\"text/plain\",\n",
    "            m_input_2=[\"my\",\"inputs\"]\n",
    "        )\n",
    "    )"
   ]
  }
 ],
 "metadata": {
  "kernelspec": {
   "display_name": "python3",
   "language": "python",
   "name": "python3"
  }
 },
 "nbformat": 4,
 "nbformat_minor": 5
}
