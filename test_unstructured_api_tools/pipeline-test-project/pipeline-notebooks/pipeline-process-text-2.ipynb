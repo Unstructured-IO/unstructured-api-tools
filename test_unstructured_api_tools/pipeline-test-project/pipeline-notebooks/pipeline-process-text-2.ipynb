{
 "cells": [
  {
   "cell_type": "markdown",
   "metadata": {},
   "source": [
    "# Text Processing Pipeline"
   ]
  },
  {
   "cell_type": "code",
   "execution_count": null,
   "metadata": {},
   "outputs": [],
   "source": [
    "# pipeline-api\n",
    "def pipeline_api(\n",
    "    text,\n",
    "    m_input1=[],\n",
    "    m_input2=[]\n",
    "):\n",
    "    return {\"silly_result\": ' : '.join([\n",
    "        str(len(text)),\n",
    "        text,\n",
    "        str(m_input1),\n",
    "        str(m_input2)\n",
    "    ])}"
   ]
  },
  {
   "cell_type": "code",
   "execution_count": null,
   "metadata": {},
   "outputs": [
    {
     "name": "stdout",
     "output_type": "stream",
     "text": [
      "{'silly_result': \"9 : some text : ['first_input'] : ['last', 'input']\"}\n"
     ]
    }
   ],
   "source": [
    "print(pipeline_api(\"some text\", m_input1=[\"first_input\"], m_input2=[\"last\", \"input\"]))"
   ]
  }
 ],
 "metadata": {
  "kernelspec": {
   "display_name": "python3",
   "language": "python",
   "name": "python3"
  }
 },
 "nbformat": 4,
 "nbformat_minor": 1
}
