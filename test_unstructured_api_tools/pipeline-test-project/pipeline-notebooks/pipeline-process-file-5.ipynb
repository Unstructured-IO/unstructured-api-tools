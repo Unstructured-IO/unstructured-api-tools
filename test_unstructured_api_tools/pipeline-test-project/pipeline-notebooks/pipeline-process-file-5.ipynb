{
 "cells": [
  {
   "cell_type": "markdown",
   "source": [
    "# File Processing Pipeline"
   ],
   "metadata": {
    "collapsed": false
   }
  },
  {
   "cell_type": "code",
   "execution_count": null,
   "metadata": {},
   "outputs": [],
   "source": [
    "# pipeline-api\n",
    "def pipeline_api(\n",
    "    file,\n",
    "    file_content_type=None,\n",
    "    response_type=\"application/json\",\n",
    "    response_schema=\"labelstudio\",\n",
    "    m_input1=[],\n",
    "    m_input2=[],\n",
    "):\n",
    "    return {\"silly_result\": ' : '.join([\n",
    "        str(len(file.read())),\n",
    "        str(file_content_type),\n",
    "        str(response_type),\n",
    "        str(response_schema),\n",
    "        str(m_input1),\n",
    "        str(m_input2),\n",
    "    ])}"
   ]
  },
  {
   "cell_type": "code",
   "execution_count": null,
   "metadata": {},
   "outputs": [
    {
     "name": "stdout",
     "output_type": "stream",
     "text": [
      "{'silly_result': \"17 : None : application/json : isd : ['input1', 'input2'] : ['m_input2']\"}\n"
     ]
    }
   ],
   "source": [
    "import tempfile\n",
    "with tempfile.TemporaryFile() as fp:\n",
    "    fp.write(b'This is some data')\n",
    "    fp.seek(0)\n",
    "    print(\n",
    "        pipeline_api(\n",
    "            fp,\n",
    "            None,\n",
    "            \"application/json\",\n",
    "            \"isd\",\n",
    "            [\"input1\", \"input2\"],\n",
    "            [\"m_input2\"]\n",
    "        )\n",
    "    )"
   ]
  }
 ],
 "metadata": {
  "kernelspec": {
   "display_name": "python3",
   "language": "python",
   "name": "python3"
  }
 },
 "nbformat": 4,
 "nbformat_minor": 0
}
